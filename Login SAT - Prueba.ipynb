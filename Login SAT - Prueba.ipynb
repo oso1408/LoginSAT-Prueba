{
 "cells": [
  {
   "cell_type": "markdown",
   "id": "2a8a485a-8cda-497a-8a11-d7ed64a766af",
   "metadata": {},
   "source": [
    "## CONTABILIDAD ELECTRONICA"
   ]
  },
  {
   "cell_type": "code",
   "execution_count": 1,
   "id": "f98765ac",
   "metadata": {},
   "outputs": [],
   "source": [
    "#Recursos necesarios para realizar la automatización\n",
    "from selenium import webdriver\n",
    "from selenium.webdriver.common.by import By\n",
    "from selenium.webdriver.support.ui import WebDriverWait\n",
    "from selenium.webdriver.support import expected_conditions as EC\n",
    "from selenium.webdriver.edge.service import Service\n",
    "from selenium.webdriver.edge.options import Options"
   ]
  },
  {
   "cell_type": "code",
   "execution_count": 2,
   "id": "3eebaeea-06ef-4a46-8d7a-5f33a895df99",
   "metadata": {},
   "outputs": [],
   "source": [
    "#Valores para iniciar el navegador y pagina al cual se desea acceder\n",
    "servicio = Service('C:/Users/chana/OneDrive/Escritorio/msedgedriver.exe')\n",
    "driver = webdriver.Edge(service=servicio)\n",
    "url = \"https://www.sat.gob.mx/aplicacion/login/42150/envia-tu-contabilidad-electronica\" #\"https://www.sat.gob.mx/personas/iniciar-sesion\"\n",
    "driver.get(url)\n",
    "\n",
    "#cambia el contexto del inframe, esto para poder realizar el login en el SAT\n",
    "iframe = driver.find_element(By.ID, 'iframetoload')\n",
    "driver.switch_to.frame(iframe)\n",
    "\n",
    "#Accede al apartado de la e.firma para poder iniciar sesion con la fiel\n",
    "btnEfi = driver.find_element(By.XPATH, \"//button[@id='buttonFiel']\")\n",
    "btnEfi.click()\n",
    "\n",
    "#Certificado .cer\n",
    "txtCER = driver.find_element(By.ID, \"fileCertificate\")\n",
    "txtCER.send_keys(\"C:/Users/chana/OneDrive/Escritorio/FIEL_CAAL010814IY6_20231222111902/CAAL010814IY6.cer\")\n",
    "#ruta_txtCER = txtCER.get_attribute(\"value\")\n",
    "\n",
    "#Clave privada .key\n",
    "txtKEY = driver.find_element(By.ID, \"filePrivateKey\")\n",
    "txtKEY.send_keys(\"C:/Users/chana/OneDrive/Escritorio/FIEL_CAAL010814IY6_20231222111902/Claveprivada_FIEL_CAAL010814IY6_20231222_111902.key\")\n",
    "ruta_txtKEY = txtKEY.get_attribute(\"value\")\n",
    "\n",
    "#Contraseña clave privada\n",
    "txtpsw = driver.find_element(By.XPATH, \"//input[@id='privateKeyPassword']\").send_keys(\"aqui va la contraseña\")\n",
    "\n",
    "#btnEnviar = driver.find_element(By.XPATH, \"//input[@id='submit']\").click()\n",
    "\n",
    "\n",
    "#url para descargar el acuse de la contabilidad electronica --- https://www.sat.gob.mx/consultas/login/16203/consulta-tus-acuses-generados-en-la-aplicacion-contabilidad-electronica\n"
   ]
  },
  {
   "cell_type": "markdown",
   "id": "51e6cc0b-ddfd-4b7b-948c-373638c5179b",
   "metadata": {},
   "source": [
    "## Prueba descarga archivo\n"
   ]
  },
  {
   "cell_type": "code",
   "execution_count": 37,
   "id": "bd39e032-8162-4220-b1b4-703746312007",
   "metadata": {},
   "outputs": [],
   "source": [
    "#Ruta al driver de Chrome\n",
    "chrome_driver_path = 'C:/Users/chana/OneDrive/Escritorio/msedgedriver.exe'\n",
    "\n",
    "# Configuración del navegador\n",
    "options = Options()\n",
    "\n",
    "# Especifica la ruta de descarga\n",
    "prefs = {\"download.default_directory\": r\"C:\\Users\\chana\\OneDrive\\Escritorio\\MENUS\"}  \n",
    "options.add_experimental_option(\"prefs\", prefs)\n",
    "\n",
    "service = Service(chrome_driver_path)\n",
    "driver = webdriver.Edge(service=service, options=options)\n",
    "url = \"https://www.google.com/intl/es-419/chrome/dr/download/?brand=CHBD&ds_kid=43700077199766179&gad_source=1&gclid=CjwKCAjw17qvBhBrEiwA1rU9w_MRQ-9tBMkuRCuu1qP2YjaVt6fM7pm7H1Vqb7SGiyx7CHm-izcifRoCi88QAvD_BwE&gclsrc=aw.ds\"\n",
    "\n",
    "driver.get(url)\n",
    "\n",
    "btnDownload = WebDriverWait(driver, 30).until(EC.visibility_of_element_located((By.XPATH, \"//button[@id='js-download-hero']\")))\n",
    "btnDownload.click()"
   ]
  }
 ],
 "metadata": {
  "kernelspec": {
   "display_name": "Python 3 (ipykernel)",
   "language": "python",
   "name": "python3"
  },
  "language_info": {
   "codemirror_mode": {
    "name": "ipython",
    "version": 3
   },
   "file_extension": ".py",
   "mimetype": "text/x-python",
   "name": "python",
   "nbconvert_exporter": "python",
   "pygments_lexer": "ipython3",
   "version": "3.11.7"
  }
 },
 "nbformat": 4,
 "nbformat_minor": 5
}
